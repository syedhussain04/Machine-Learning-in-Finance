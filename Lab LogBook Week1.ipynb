{
 "cells": [
  {
   "cell_type": "code",
   "execution_count": 9,
   "id": "02725270-d711-45c3-badb-1334d6a640af",
   "metadata": {},
   "outputs": [],
   "source": [
    "## import library\n",
    "import numpy as np"
   ]
  },
  {
   "cell_type": "code",
   "execution_count": 7,
   "id": "7334aa2c-228d-422e-a76a-3e0bd26c8d29",
   "metadata": {},
   "outputs": [
    {
     "name": "stdout",
     "output_type": "stream",
     "text": [
      "Original Vector:\n",
      " [ 0  1  2  3  4  5  6  7  8  9 10 11 12 13 14 15 16 17 18 19 20 21 22 23\n",
      " 24 25 26 27 28 29 30 31 32 33 34 35 36 37 38 39 40 41 42 43 44 45 46 47\n",
      " 48 49 50 51 52 53 54 55 56 57 58 59 60 61 62 63 64 65 66 67 68 69 70 71\n",
      " 72 73 74 75 76 77 78 79 80 81 82 83 84 85 86 87 88 89 90 91 92 93 94 95\n",
      " 96]\n"
     ]
    }
   ],
   "source": [
    "## Creating a vector using np.arange with 97 elements (based on my SID \"2418497\")\n",
    "num_elements = 97\n",
    "vector = np.arange(num_elements)\n",
    "print(\"Original Vector:\\n\", vector)"
   ]
  },
  {
   "cell_type": "code",
   "execution_count": 13,
   "id": "ec646127-e53d-4c45-8a18-64362203e93f",
   "metadata": {},
   "outputs": [
    {
     "name": "stdout",
     "output_type": "stream",
     "text": [
      "\n",
      "2D Array with one row:\n",
      " [[ 0  1  2  3  4  5  6  7  8  9 10 11 12 13 14 15 16 17 18 19 20 21 22 23\n",
      "  24 25 26 27 28 29 30 31 32 33 34 35 36 37 38 39 40 41 42 43 44 45 46 47\n",
      "  48 49 50 51 52 53 54 55 56 57 58 59 60 61 62 63 64 65 66 67 68 69 70 71\n",
      "  72 73 74 75 76 77 78 79 80 81 82 83 84 85 86 87 88 89 90 91 92 93 94 95\n",
      "  96]]\n"
     ]
    }
   ],
   "source": [
    "## Converting the vector to a 2D array with one row\n",
    "array_2d = vector.reshape(1, -1)\n",
    "print(\"\\n2D Array with one row:\\n\", array_2d)"
   ]
  },
  {
   "cell_type": "code",
   "execution_count": 15,
   "id": "5eac7937-57c5-44ac-9cef-778b51e4a206",
   "metadata": {},
   "outputs": [
    {
     "name": "stdout",
     "output_type": "stream",
     "text": [
      "\n",
      "Copied 2D Array:\n",
      " [[ 0  1  2  3  4  5  6  7  8  9 10 11 12 13 14 15 16 17 18 19 20 21 22 23\n",
      "  24 25 26 27 28 29 30 31 32 33 34 35 36 37 38 39 40 41 42 43 44 45 46 47\n",
      "  48 49 50 51 52 53 54 55 56 57 58 59 60 61 62 63 64 65 66 67 68 69 70 71\n",
      "  72 73 74 75 76 77 78 79 80 81 82 83 84 85 86 87 88 89 90 91 92 93 94 95\n",
      "  96]]\n"
     ]
    }
   ],
   "source": [
    "## Save it in another array and print it\n",
    "array_copy = array_2d.copy()\n",
    "print(\"\\nCopied 2D Array:\\n\", array_copy)"
   ]
  },
  {
   "cell_type": "code",
   "execution_count": 21,
   "id": "96e3fa2a-985f-470d-a645-3d2b9943668d",
   "metadata": {},
   "outputs": [
    {
     "name": "stdout",
     "output_type": "stream",
     "text": [
      "\n",
      "Shape of the 2D Array: (1, 97)\n"
     ]
    }
   ],
   "source": [
    "## shape attribute of the 2D array\n",
    "shape_of_array = array_2d.shape\n",
    "print(\"\\nShape of the 2D Array:\", shape_of_array)"
   ]
  },
  {
   "cell_type": "code",
   "execution_count": null,
   "id": "289fc409-fa1c-4d37-90c8-5561af42a02c",
   "metadata": {},
   "outputs": [],
   "source": []
  },
  {
   "cell_type": "code",
   "execution_count": null,
   "id": "28e33045-31b2-46c4-8f41-ed8c3f8fb7a1",
   "metadata": {},
   "outputs": [],
   "source": []
  }
 ],
 "metadata": {
  "kernelspec": {
   "display_name": "Python 3 (ipykernel)",
   "language": "python",
   "name": "python3"
  },
  "language_info": {
   "codemirror_mode": {
    "name": "ipython",
    "version": 3
   },
   "file_extension": ".py",
   "mimetype": "text/x-python",
   "name": "python",
   "nbconvert_exporter": "python",
   "pygments_lexer": "ipython3",
   "version": "3.12.4"
  }
 },
 "nbformat": 4,
 "nbformat_minor": 5
}
